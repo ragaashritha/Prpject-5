{
  "nbformat": 4,
  "nbformat_minor": 0,
  "metadata": {
    "colab": {
      "name": "Project:5.ipynb",
      "version": "0.3.2",
      "provenance": [],
      "collapsed_sections": [],
      "include_colab_link": true
    },
    "kernelspec": {
      "name": "python3",
      "display_name": "Python 3"
    }
  },
  "cells": [
    {
      "cell_type": "markdown",
      "metadata": {
        "id": "view-in-github",
        "colab_type": "text"
      },
      "source": [
        "<a href=\"https://colab.research.google.com/github/ragaashritha/Prpject-5/blob/master/Project_5.ipynb\" target=\"_parent\"><img src=\"https://colab.research.google.com/assets/colab-badge.svg\" alt=\"Open In Colab\"/></a>"
      ]
    },
    {
      "cell_type": "code",
      "metadata": {
        "id": "ZoVNnRKDfBCb",
        "colab_type": "code",
        "colab": {}
      },
      "source": [
        "#Summary#\n",
        "#Image enormalization\n",
        "#Activation layer after Batch normalization\n",
        "#Adding l2 regularization to each layer\n",
        "#Misclassified images"
      ],
      "execution_count": 0,
      "outputs": []
    },
    {
      "cell_type": "code",
      "metadata": {
        "id": "AJ35BqtL9gun",
        "colab_type": "code",
        "colab": {
          "base_uri": "https://localhost:8080/",
          "height": 34
        },
        "outputId": "942353cb-5b6c-4c82-8732-c7c2376d6116"
      },
      "source": [
        "# https://keras.io/\n",
        "!pip install -q keras\n",
        "import keras"
      ],
      "execution_count": 1,
      "outputs": [
        {
          "output_type": "stream",
          "text": [
            "Using TensorFlow backend.\n"
          ],
          "name": "stderr"
        }
      ]
    },
    {
      "cell_type": "code",
      "metadata": {
        "id": "DLv8K76l9gxa",
        "colab_type": "code",
        "colab": {}
      },
      "source": [
        "import numpy as np\n",
        "\n",
        "from keras.models import Sequential\n",
        "from keras.layers import Dense, Dropout, Activation, Flatten, Add, BatchNormalization\n",
        "from keras.layers import Convolution2D, MaxPooling2D\n",
        "from keras.utils import np_utils\n",
        "\n",
        "from keras.datasets import mnist"
      ],
      "execution_count": 0,
      "outputs": []
    },
    {
      "cell_type": "code",
      "metadata": {
        "id": "yi72BczC9hMB",
        "colab_type": "code",
        "colab": {}
      },
      "source": [
        "(X_train, y_train), (X_test, y_test) = mnist.load_data()"
      ],
      "execution_count": 0,
      "outputs": []
    },
    {
      "cell_type": "code",
      "metadata": {
        "id": "VvCBV1Lc9hN4",
        "colab_type": "code",
        "outputId": "be394e49-3b82-4458-9835-989b4a671d0a",
        "colab": {
          "base_uri": "https://localhost:8080/",
          "height": 303
        }
      },
      "source": [
        "print (X_train.shape)\n",
        "from matplotlib import pyplot as plt\n",
        "%matplotlib inline\n",
        "plt.imshow(X_train[0])"
      ],
      "execution_count": 4,
      "outputs": [
        {
          "output_type": "stream",
          "text": [
            "(60000, 28, 28)\n"
          ],
          "name": "stdout"
        },
        {
          "output_type": "execute_result",
          "data": {
            "text/plain": [
              "<matplotlib.image.AxesImage at 0x7fcc58d38208>"
            ]
          },
          "metadata": {
            "tags": []
          },
          "execution_count": 4
        },
        {
          "output_type": "display_data",
          "data": {
            "image/png": "[encoded data removed]",
            "text/plain": [
              "<Figure size 432x288 with 1 Axes>"
            ]
          },
          "metadata": {
            "tags": []
          }
        }
      ]
    },
    {
      "cell_type": "code",
      "metadata": {
        "id": "E8CgmQrG9hQd",
        "colab_type": "code",
        "colab": {}
      },
      "source": [
        "X_train = X_train.reshape(X_train.shape[0], 28, 28,1)\n",
        "X_test = X_test.reshape(X_test.shape[0], 28, 28,1)"
      ],
      "execution_count": 0,
      "outputs": []
    },
    {
      "cell_type": "code",
      "metadata": {
        "id": "CbWhPKOq9rcs",
        "colab_type": "code",
        "colab": {}
      },
      "source": [
        "X_train = X_train.astype('float32')\n",
        "X_test = X_test.astype('float32')\n",
        "X_train /= 255\n",
        "X_test /= 255"
      ],
      "execution_count": 0,
      "outputs": []
    },
    {
      "cell_type": "code",
      "metadata": {
        "id": "-I52p22x9rYm",
        "colab_type": "code",
        "colab": {}
      },
      "source": [
        "# Convert 1-dimensional class arrays to 10-dimensional class matrices\n",
        "Y_train = np_utils.to_categorical(y_train, 10)\n",
        "Y_test = np_utils.to_categorical(y_test, 10)"
      ],
      "execution_count": 0,
      "outputs": []
    },
    {
      "cell_type": "code",
      "metadata": {
        "id": "c98G9G0cGXUs",
        "colab_type": "code",
        "colab": {}
      },
      "source": [
        "from keras.preprocessing.image import ImageDataGenerator\n",
        "image_normalization = ImageDataGenerator(featurewise_center=True, featurewise_std_normalization=True)\n",
        "image_normalization.fit(X_train)\n",
        "train_iterator = image_normalization.flow(X_train,Y_train,batch_size = 64)\n",
        "test_iterator = image_normalization.flow(X_test,Y_test,batch_size = 64)"
      ],
      "execution_count": 0,
      "outputs": []
    },
    {
      "cell_type": "code",
      "metadata": {
        "id": "p9Mrw1PmGXRe",
        "colab_type": "code",
        "colab": {}
      },
      "source": [
        ""
      ],
      "execution_count": 0,
      "outputs": []
    },
    {
      "cell_type": "code",
      "metadata": {
        "id": "Eddol_8h9rW6",
        "colab_type": "code",
        "outputId": "4da4b1f2-1edd-472a-959b-c0a8ea5d1f8d",
        "colab": {
          "base_uri": "https://localhost:8080/",
          "height": 1278
        }
      },
      "source": [
        "from keras.layers import Activation\n",
        "from keras.regularizers import l2\n",
        "\n",
        "model = Sequential()\n",
        "\n",
        " \n",
        "model.add(Convolution2D(10, 3, 3, activity_regularizer=l2(0.0001), input_shape=(28,28,1))) # 26\n",
        "model.add(BatchNormalization())\n",
        "model.add(Activation('relu'))\n",
        "model.add(Dropout(0.10))\n",
        "\n",
        "\n",
        "model.add(Convolution2D(15, 3, 3, activity_regularizer=l2(0.0001))) # 24\n",
        "model.add(BatchNormalization())\n",
        "model.add(Activation('relu'))\n",
        "model.add(Dropout(0.10))\n",
        "\n",
        "\n",
        "model.add(Convolution2D(26, 3, 3, activity_regularizer=l2(0.0001))) # 22\n",
        "model.add(BatchNormalization())\n",
        "model.add(Activation('relu'))\n",
        "model.add(Dropout(0.10))\n",
        "\n",
        "\n",
        "model.add(MaxPooling2D(pool_size=(2, 2))) # 11\n",
        "model.add(Convolution2D(10, 1, 1, activation='relu',use_bias=False)) # 11\n",
        "model.add(Dropout(0.10))\n",
        "\n",
        "\n",
        "model.add(Convolution2D(15, 3, 3, activity_regularizer=l2(0.0001))) # 9\n",
        "model.add(BatchNormalization())\n",
        "model.add(Activation('relu'))\n",
        "model.add(Dropout(0.10))\n",
        "\n",
        "\n",
        "model.add(Convolution2D(26, 3, 3,  activity_regularizer=l2(0.0001))) # 7\n",
        "model.add(BatchNormalization())\n",
        "model.add(Activation('relu'))\n",
        "model.add(Dropout(0.10))\n",
        "\n",
        "\n",
        "\n",
        "model.add(Convolution2D(10, 1,activity_regularizer=l2(0.0001))) #7\n",
        "model.add(BatchNormalization())\n",
        "model.add(Activation('relu'))\n",
        "\n",
        "\n",
        "model.add(Convolution2D(10, 7))\n",
        "model.add(Flatten())\n",
        "model.add(Activation('softmax'))\n",
        "model.summary()"
      ],
      "execution_count": 16,
      "outputs": [
        {
          "output_type": "stream",
          "text": [
            "/usr/local/lib/python3.6/dist-packages/ipykernel_launcher.py:7: UserWarning: Update your `Conv2D` call to the Keras 2 API: `Conv2D(10, (3, 3), activity_regularizer=<keras.reg..., input_shape=(28, 28, 1...)`\n",
            "  import sys\n",
            "/usr/local/lib/python3.6/dist-packages/ipykernel_launcher.py:13: UserWarning: Update your `Conv2D` call to the Keras 2 API: `Conv2D(15, (3, 3), activity_regularizer=<keras.reg...)`\n",
            "  del sys.path[0]\n",
            "/usr/local/lib/python3.6/dist-packages/ipykernel_launcher.py:19: UserWarning: Update your `Conv2D` call to the Keras 2 API: `Conv2D(26, (3, 3), activity_regularizer=<keras.reg...)`\n",
            "/usr/local/lib/python3.6/dist-packages/ipykernel_launcher.py:26: UserWarning: Update your `Conv2D` call to the Keras 2 API: `Conv2D(10, (1, 1), activation=\"relu\", use_bias=False)`\n",
            "/usr/local/lib/python3.6/dist-packages/ipykernel_launcher.py:30: UserWarning: Update your `Conv2D` call to the Keras 2 API: `Conv2D(15, (3, 3), activity_regularizer=<keras.reg...)`\n",
            "/usr/local/lib/python3.6/dist-packages/ipykernel_launcher.py:36: UserWarning: Update your `Conv2D` call to the Keras 2 API: `Conv2D(26, (3, 3), activity_regularizer=<keras.reg...)`\n"
          ],
          "name": "stderr"
        },
        {
          "output_type": "stream",
          "text": [
            "_________________________________________________________________\n",
            "Layer (type)                 Output Shape              Param #   \n",
            "=================================================================\n",
            "conv2d_25 (Conv2D)           (None, 26, 26, 10)        100       \n",
            "_________________________________________________________________\n",
            "batch_normalization_19 (Batc (None, 26, 26, 10)        40        \n",
            "_________________________________________________________________\n",
            "activation_22 (Activation)   (None, 26, 26, 10)        0         \n",
            "_________________________________________________________________\n",
            "dropout_17 (Dropout)         (None, 26, 26, 10)        0         \n",
            "_________________________________________________________________\n",
            "conv2d_26 (Conv2D)           (None, 24, 24, 15)        1365      \n",
            "_________________________________________________________________\n",
            "batch_normalization_20 (Batc (None, 24, 24, 15)        60        \n",
            "_________________________________________________________________\n",
            "activation_23 (Activation)   (None, 24, 24, 15)        0         \n",
            "_________________________________________________________________\n",
            "dropout_18 (Dropout)         (None, 24, 24, 15)        0         \n",
            "_________________________________________________________________\n",
            "conv2d_27 (Conv2D)           (None, 22, 22, 26)        3536      \n",
            "_________________________________________________________________\n",
            "batch_normalization_21 (Batc (None, 22, 22, 26)        104       \n",
            "_________________________________________________________________\n",
            "activation_24 (Activation)   (None, 22, 22, 26)        0         \n",
            "_________________________________________________________________\n",
            "dropout_19 (Dropout)         (None, 22, 22, 26)        0         \n",
            "_________________________________________________________________\n",
            "max_pooling2d_4 (MaxPooling2 (None, 11, 11, 26)        0         \n",
            "_________________________________________________________________\n",
            "conv2d_28 (Conv2D)           (None, 11, 11, 10)        260       \n",
            "_________________________________________________________________\n",
            "dropout_20 (Dropout)         (None, 11, 11, 10)        0         \n",
            "_________________________________________________________________\n",
            "conv2d_29 (Conv2D)           (None, 9, 9, 15)          1365      \n",
            "_________________________________________________________________\n",
            "batch_normalization_22 (Batc (None, 9, 9, 15)          60        \n",
            "_________________________________________________________________\n",
            "activation_25 (Activation)   (None, 9, 9, 15)          0         \n",
            "_________________________________________________________________\n",
            "dropout_21 (Dropout)         (None, 9, 9, 15)          0         \n",
            "_________________________________________________________________\n",
            "conv2d_30 (Conv2D)           (None, 7, 7, 26)          3536      \n",
            "_________________________________________________________________\n",
            "batch_normalization_23 (Batc (None, 7, 7, 26)          104       \n",
            "_________________________________________________________________\n",
            "activation_26 (Activation)   (None, 7, 7, 26)          0         \n",
            "_________________________________________________________________\n",
            "dropout_22 (Dropout)         (None, 7, 7, 26)          0         \n",
            "_________________________________________________________________\n",
            "conv2d_31 (Conv2D)           (None, 7, 7, 10)          270       \n",
            "_________________________________________________________________\n",
            "batch_normalization_24 (Batc (None, 7, 7, 10)          40        \n",
            "_________________________________________________________________\n",
            "activation_27 (Activation)   (None, 7, 7, 10)          0         \n",
            "_________________________________________________________________\n",
            "conv2d_32 (Conv2D)           (None, 1, 1, 10)          4910      \n",
            "_________________________________________________________________\n",
            "flatten_4 (Flatten)          (None, 10)                0         \n",
            "_________________________________________________________________\n",
            "activation_28 (Activation)   (None, 10)                0         \n",
            "=================================================================\n",
            "Total params: 15,750\n",
            "Trainable params: 15,546\n",
            "Non-trainable params: 204\n",
            "_________________________________________________________________\n"
          ],
          "name": "stdout"
        }
      ]
    },
    {
      "cell_type": "code",
      "metadata": {
        "id": "HJvQLptS9hUi",
        "colab_type": "code",
        "colab": {}
      },
      "source": [
        ""
      ],
      "execution_count": 0,
      "outputs": []
    },
    {
      "cell_type": "code",
      "metadata": {
        "id": "VUoPNJ-m93hQ",
        "colab_type": "code",
        "outputId": "411fb7fc-bfa2-4fca-86b3-ec3975330b7d",
        "colab": {
          "base_uri": "https://localhost:8080/",
          "height": 2754
        }
      },
      "source": [
        "from keras.optimizers import Adam\n",
        "from keras.callbacks import LearningRateScheduler\n",
        "from keras.callbacks import LearningRateScheduler,ModelCheckpoint\n",
        "\n",
        "def scheduler(epoch, lr):\n",
        "  return round(0.007 * 1/(1 + 0.319 * epoch), 10)\n",
        "\n",
        "model_path = 'model.{epoch:02d}-{val_loss:.2f}.hdf5'\n",
        "callbacks = [\n",
        "    LearningRateScheduler(scheduler, verbose=1),\n",
        "    ModelCheckpoint(model_path,\n",
        "        monitor='val_acc', \n",
        "        save_best_only=True, \n",
        "        mode='max',\n",
        "        verbose=0)\n",
        "]\n",
        "\n",
        "model.compile(loss='categorical_crossentropy', optimizer=Adam(lr=0.007), metrics=['accuracy'])\n",
        "\n",
        "\n",
        "model.fit_generator(train_iterator,epochs=40, verbose=1,steps_per_epoch=len(train_iterator),validation_data=test_iterator,validation_steps = len(test_iterator), callbacks=callbacks)\n"
      ],
      "execution_count": 17,
      "outputs": [
        {
          "output_type": "stream",
          "text": [
            "Epoch 1/40\n",
            "\n",
            "Epoch 00001: LearningRateScheduler setting learning rate to 0.007.\n",
            "938/938 [==============================] - 551s 588ms/step - loss: 1.6416 - acc: 0.8385 - val_loss: 0.6138 - val_acc: 0.8128\n",
            "Epoch 2/40\n",
            "\n",
            "Epoch 00002: LearningRateScheduler setting learning rate to 0.0053070508.\n",
            "938/938 [==============================] - 540s 576ms/step - loss: 0.2729 - acc: 0.9313 - val_loss: 8.7472 - val_acc: 0.6234\n",
            "Epoch 3/40\n",
            "\n",
            "Epoch 00003: LearningRateScheduler setting learning rate to 0.0042735043.\n",
            "938/938 [==============================] - 541s 577ms/step - loss: 0.2213 - acc: 0.9495 - val_loss: 0.4614 - val_acc: 0.8884\n",
            "Epoch 4/40\n",
            "\n",
            "Epoch 00004: LearningRateScheduler setting learning rate to 0.0035769034.\n",
            "938/938 [==============================] - 537s 572ms/step - loss: 0.1637 - acc: 0.9569 - val_loss: 0.1178 - val_acc: 0.9748\n",
            "Epoch 5/40\n",
            "\n",
            "Epoch 00005: LearningRateScheduler setting learning rate to 0.0030755712.\n",
            "938/938 [==============================] - 543s 579ms/step - loss: 0.1403 - acc: 0.9632 - val_loss: 1.0959 - val_acc: 0.7008\n",
            "Epoch 6/40\n",
            "\n",
            "Epoch 00006: LearningRateScheduler setting learning rate to 0.0026974952.\n",
            "938/938 [==============================] - 547s 584ms/step - loss: 0.1413 - acc: 0.9628 - val_loss: 0.2178 - val_acc: 0.9362\n",
            "Epoch 7/40\n",
            "\n",
            "Epoch 00007: LearningRateScheduler setting learning rate to 0.0024021963.\n",
            "938/938 [==============================] - 551s 588ms/step - loss: 0.1268 - acc: 0.9671 - val_loss: 0.2659 - val_acc: 0.9216\n",
            "Epoch 8/40\n",
            "\n",
            "Epoch 00008: LearningRateScheduler setting learning rate to 0.0021651717.\n",
            "938/938 [==============================] - 541s 577ms/step - loss: 0.1302 - acc: 0.9672 - val_loss: 0.3366 - val_acc: 0.8980\n",
            "Epoch 9/40\n",
            "\n",
            "Epoch 00009: LearningRateScheduler setting learning rate to 0.0019707207.\n",
            "938/938 [==============================] - 536s 572ms/step - loss: 0.1146 - acc: 0.9688 - val_loss: 0.0740 - val_acc: 0.9830\n",
            "Epoch 10/40\n",
            "\n",
            "Epoch 00010: LearningRateScheduler setting learning rate to 0.0018083183.\n",
            "938/938 [==============================] - 531s 567ms/step - loss: 0.1094 - acc: 0.9702 - val_loss: 0.2400 - val_acc: 0.9288\n",
            "Epoch 11/40\n",
            "\n",
            "Epoch 00011: LearningRateScheduler setting learning rate to 0.0016706444.\n",
            "938/938 [==============================] - 540s 576ms/step - loss: 0.1085 - acc: 0.9709 - val_loss: 0.0828 - val_acc: 0.9780\n",
            "Epoch 12/40\n",
            "\n",
            "Epoch 00012: LearningRateScheduler setting learning rate to 0.0015524507.\n",
            "938/938 [==============================] - 554s 590ms/step - loss: 0.1027 - acc: 0.9725 - val_loss: 0.3698 - val_acc: 0.8826\n",
            "Epoch 13/40\n",
            "\n",
            "Epoch 00013: LearningRateScheduler setting learning rate to 0.0014498757.\n",
            "938/938 [==============================] - 552s 588ms/step - loss: 0.0997 - acc: 0.9724 - val_loss: 0.1591 - val_acc: 0.9546\n",
            "Epoch 14/40\n",
            "\n",
            "Epoch 00014: LearningRateScheduler setting learning rate to 0.0013600155.\n",
            "938/938 [==============================] - 541s 577ms/step - loss: 0.0966 - acc: 0.9739 - val_loss: 0.2491 - val_acc: 0.9245\n",
            "Epoch 15/40\n",
            "\n",
            "Epoch 00015: LearningRateScheduler setting learning rate to 0.001280644.\n",
            "938/938 [==============================] - 541s 577ms/step - loss: 0.0951 - acc: 0.9739 - val_loss: 0.0725 - val_acc: 0.9802\n",
            "Epoch 16/40\n",
            "\n",
            "Epoch 00016: LearningRateScheduler setting learning rate to 0.0012100259.\n",
            "938/938 [==============================] - 546s 583ms/step - loss: 0.0927 - acc: 0.9748 - val_loss: 0.1462 - val_acc: 0.9513\n",
            "Epoch 17/40\n",
            "\n",
            "Epoch 00017: LearningRateScheduler setting learning rate to 0.001146789.\n",
            "938/938 [==============================] - 544s 580ms/step - loss: 0.0888 - acc: 0.9758 - val_loss: 0.1396 - val_acc: 0.9566\n",
            "Epoch 18/40\n",
            "\n",
            "Epoch 00018: LearningRateScheduler setting learning rate to 0.0010898334.\n",
            "938/938 [==============================] - 546s 582ms/step - loss: 0.0879 - acc: 0.9759 - val_loss: 0.0688 - val_acc: 0.9812\n",
            "Epoch 19/40\n",
            "\n",
            "Epoch 00019: LearningRateScheduler setting learning rate to 0.0010382676.\n",
            "938/938 [==============================] - 557s 594ms/step - loss: 0.0875 - acc: 0.9766 - val_loss: 0.2372 - val_acc: 0.9294\n",
            "Epoch 20/40\n",
            "\n",
            "Epoch 00020: LearningRateScheduler setting learning rate to 0.000991361.\n",
            "938/938 [==============================] - 545s 581ms/step - loss: 0.0863 - acc: 0.9760 - val_loss: 0.1492 - val_acc: 0.9545\n",
            "Epoch 21/40\n",
            "\n",
            "Epoch 00021: LearningRateScheduler setting learning rate to 0.0009485095.\n",
            "938/938 [==============================] - 543s 579ms/step - loss: 0.0849 - acc: 0.9758 - val_loss: 0.0862 - val_acc: 0.9762\n",
            "Epoch 22/40\n",
            "\n",
            "Epoch 00022: LearningRateScheduler setting learning rate to 0.000909209.\n",
            "938/938 [==============================] - 545s 581ms/step - loss: 0.0829 - acc: 0.9774 - val_loss: 0.1289 - val_acc: 0.9638\n",
            "Epoch 23/40\n",
            "\n",
            "Epoch 00023: LearningRateScheduler setting learning rate to 0.0008730357.\n",
            "938/938 [==============================] - 542s 578ms/step - loss: 0.0790 - acc: 0.9791 - val_loss: 0.0639 - val_acc: 0.9826\n",
            "Epoch 24/40\n",
            "\n",
            "Epoch 00024: LearningRateScheduler setting learning rate to 0.0008396306.\n",
            "938/938 [==============================] - 552s 589ms/step - loss: 0.0773 - acc: 0.9784 - val_loss: 0.0863 - val_acc: 0.9752\n",
            "Epoch 25/40\n",
            "\n",
            "Epoch 00025: LearningRateScheduler setting learning rate to 0.0008086876.\n",
            "938/938 [==============================] - 549s 585ms/step - loss: 0.0780 - acc: 0.9786 - val_loss: 0.1311 - val_acc: 0.9585\n",
            "Epoch 26/40\n",
            "\n",
            "Epoch 00026: LearningRateScheduler setting learning rate to 0.0007799443.\n",
            "938/938 [==============================] - 550s 586ms/step - loss: 0.0752 - acc: 0.9792 - val_loss: 0.0920 - val_acc: 0.9717\n",
            "Epoch 27/40\n",
            "\n",
            "Epoch 00027: LearningRateScheduler setting learning rate to 0.0007531741.\n",
            "938/938 [==============================] - 550s 586ms/step - loss: 0.0738 - acc: 0.9799 - val_loss: 0.1708 - val_acc: 0.9485\n",
            "Epoch 28/40\n",
            "\n",
            "Epoch 00028: LearningRateScheduler setting learning rate to 0.0007281806.\n",
            "938/938 [==============================] - 550s 587ms/step - loss: 0.0724 - acc: 0.9795 - val_loss: 0.0907 - val_acc: 0.9718\n",
            "Epoch 29/40\n",
            "\n",
            "Epoch 00029: LearningRateScheduler setting learning rate to 0.0007047926.\n",
            "938/938 [==============================] - 555s 591ms/step - loss: 0.0694 - acc: 0.9807 - val_loss: 0.1787 - val_acc: 0.9434\n",
            "Epoch 30/40\n",
            "\n",
            "Epoch 00030: LearningRateScheduler setting learning rate to 0.0006828602.\n",
            "938/938 [==============================] - 561s 598ms/step - loss: 0.0717 - acc: 0.9793 - val_loss: 0.1543 - val_acc: 0.9516\n",
            "Epoch 31/40\n",
            "\n",
            "Epoch 00031: LearningRateScheduler setting learning rate to 0.0006622517.\n",
            "938/938 [==============================] - 561s 599ms/step - loss: 0.0710 - acc: 0.9803 - val_loss: 0.1525 - val_acc: 0.9566\n",
            "Epoch 32/40\n",
            "\n",
            "Epoch 00032: LearningRateScheduler setting learning rate to 0.0006428506.\n",
            "938/938 [==============================] - 564s 602ms/step - loss: 0.0679 - acc: 0.9814 - val_loss: 0.2716 - val_acc: 0.9134\n",
            "Epoch 33/40\n",
            "\n",
            "Epoch 00033: LearningRateScheduler setting learning rate to 0.0006245539.\n",
            "938/938 [==============================] - 568s 606ms/step - loss: 0.0674 - acc: 0.9817 - val_loss: 0.0921 - val_acc: 0.9730\n",
            "Epoch 34/40\n",
            "\n",
            "Epoch 00034: LearningRateScheduler setting learning rate to 0.0006072699.\n",
            "938/938 [==============================] - 557s 594ms/step - loss: 0.0658 - acc: 0.9813 - val_loss: 0.1413 - val_acc: 0.9555\n",
            "Epoch 35/40\n",
            "\n",
            "Epoch 00035: LearningRateScheduler setting learning rate to 0.0005909168.\n",
            "938/938 [==============================] - 563s 600ms/step - loss: 0.0669 - acc: 0.9811 - val_loss: 0.0632 - val_acc: 0.9821\n",
            "Epoch 36/40\n",
            "\n",
            "Epoch 00036: LearningRateScheduler setting learning rate to 0.0005754213.\n",
            "938/938 [==============================] - 464s 495ms/step - loss: 0.0649 - acc: 0.9813 - val_loss: 0.1244 - val_acc: 0.9620\n",
            "Epoch 37/40\n",
            "\n",
            "Epoch 00037: LearningRateScheduler setting learning rate to 0.0005607177.\n",
            "938/938 [==============================] - 294s 313ms/step - loss: 0.0644 - acc: 0.9823 - val_loss: 0.1048 - val_acc: 0.9708\n",
            "Epoch 38/40\n",
            "\n",
            "Epoch 00038: LearningRateScheduler setting learning rate to 0.0005467469.\n",
            "938/938 [==============================] - 289s 309ms/step - loss: 0.0649 - acc: 0.9810 - val_loss: 0.0841 - val_acc: 0.9738\n",
            "Epoch 39/40\n",
            "\n",
            "Epoch 00039: LearningRateScheduler setting learning rate to 0.0005334553.\n",
            "938/938 [==============================] - 288s 307ms/step - loss: 0.0621 - acc: 0.9829 - val_loss: 0.1123 - val_acc: 0.9666\n",
            "Epoch 40/40\n",
            "\n",
            "Epoch 00040: LearningRateScheduler setting learning rate to 0.0005207946.\n",
            "938/938 [==============================] - 289s 308ms/step - loss: 0.0628 - acc: 0.9824 - val_loss: 0.0682 - val_acc: 0.9785\n"
          ],
          "name": "stdout"
        },
        {
          "output_type": "execute_result",
          "data": {
            "text/plain": [
              "<keras.callbacks.History at 0x7fcc4d0ab160>"
            ]
          },
          "metadata": {
            "tags": []
          },
          "execution_count": 17
        }
      ]
    },
    {
      "cell_type": "code",
      "metadata": {
        "id": "oaLQRbjz93cw",
        "colab_type": "code",
        "colab": {}
      },
      "source": [
        "\n",
        "from keras.models import load_model \n",
        "final_model = load_model('model.23-0.06.hdf5')\n",
        "\n",
        "score = final_model.evaluate_generator(test_iterator,steps=len(test_iterator))\n",
        "print(score)\n"
      ],
      "execution_count": 0,
      "outputs": []
    },
    {
      "cell_type": "code",
      "metadata": {
        "id": "L-qHbgdE93Z1",
        "colab_type": "code",
        "colab": {}
      },
      "source": [
        "y_pred = model.predict(X_test)"
      ],
      "execution_count": 0,
      "outputs": []
    },
    {
      "cell_type": "code",
      "metadata": {
        "id": "lI5f7pR293YJ",
        "colab_type": "code",
        "colab": {}
      },
      "source": [
        "test_class =  model.predict_classes(X_test)"
      ],
      "execution_count": 0,
      "outputs": []
    },
    {
      "cell_type": "code",
      "metadata": {
        "id": "4zwTXycINXZI",
        "colab_type": "code",
        "outputId": "cf6097a9-df34-41b6-d1ac-e8e16a640cf1",
        "colab": {
          "base_uri": "https://localhost:8080/",
          "height": 34
        }
      },
      "source": [
        "print(y_test[:10])"
      ],
      "execution_count": 0,
      "outputs": [
        {
          "output_type": "stream",
          "text": [
            "[7 2 1 0 4 1 4 9 5 9]\n"
          ],
          "name": "stdout"
        }
      ]
    },
    {
      "cell_type": "code",
      "metadata": {
        "id": "pIdGFdSdNglK",
        "colab_type": "code",
        "outputId": "e732d723-8d65-4b70-b392-031cf5a29034",
        "colab": {
          "base_uri": "https://localhost:8080/",
          "height": 34
        }
      },
      "source": [
        "print(test_class[:10])"
      ],
      "execution_count": 0,
      "outputs": [
        {
          "output_type": "stream",
          "text": [
            "[7 2 1 0 4 1 4 4 5 9]\n"
          ],
          "name": "stdout"
        }
      ]
    },
    {
      "cell_type": "code",
      "metadata": {
        "id": "dhGHHj0mSQwO",
        "colab_type": "code",
        "outputId": "b658452f-ecd4-498b-b727-f5b19a60f0b9",
        "colab": {
          "base_uri": "https://localhost:8080/",
          "height": 163
        }
      },
      "source": [
        "Y_test[test_class!=y_test]"
      ],
      "execution_count": 0,
      "outputs": [
        {
          "output_type": "error",
          "ename": "AttributeError",
          "evalue": "ignored",
          "traceback": [
            "\u001b[0;31m---------------------------------------------------------------------------\u001b[0m",
            "\u001b[0;31mAttributeError\u001b[0m                            Traceback (most recent call last)",
            "\u001b[0;32m<ipython-input-39-b97cebea34aa>\u001b[0m in \u001b[0;36m<module>\u001b[0;34m()\u001b[0m\n\u001b[0;32m----> 1\u001b[0;31m \u001b[0mY_test\u001b[0m\u001b[0;34m[\u001b[0m\u001b[0mtest_class\u001b[0m\u001b[0;34m!=\u001b[0m\u001b[0my_test\u001b[0m\u001b[0;34m]\u001b[0m\u001b[0;34m.\u001b[0m\u001b[0mindex\u001b[0m\u001b[0;34m\u001b[0m\u001b[0;34m\u001b[0m\u001b[0m\n\u001b[0m",
            "\u001b[0;31mAttributeError\u001b[0m: 'numpy.ndarray' object has no attribute 'index'"
          ]
        }
      ]
    },
    {
      "cell_type": "code",
      "metadata": {
        "id": "uGvohZrTTBfv",
        "colab_type": "code",
        "colab": {}
      },
      "source": [
        ""
      ],
      "execution_count": 0,
      "outputs": []
    },
    {
      "cell_type": "code",
      "metadata": {
        "id": "2ayBK3dDNgfO",
        "colab_type": "code",
        "colab": {}
      },
      "source": [
        ""
      ],
      "execution_count": 0,
      "outputs": []
    },
    {
      "cell_type": "code",
      "metadata": {
        "id": "r6zrNaupWcVz",
        "colab_type": "code",
        "colab": {}
      },
      "source": [
        "\n",
        "\n",
        "\n"
      ],
      "execution_count": 0,
      "outputs": []
    },
    {
      "cell_type": "code",
      "metadata": {
        "id": "tS6RFtjCyJUC",
        "colab_type": "code",
        "colab": {}
      },
      "source": [
        ""
      ],
      "execution_count": 0,
      "outputs": []
    }
  ]
}